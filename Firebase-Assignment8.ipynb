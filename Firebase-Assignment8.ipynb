{
 "cells": [
  {
   "cell_type": "code",
   "execution_count": 2,
   "metadata": {},
   "outputs": [
    {
     "name": "stdout",
     "output_type": "stream",
     "text": [
      "Requirement already up-to-date: firebase-admin in d:\\anaconda3\\lib\\site-packages (4.5.0)\n",
      "Requirement already satisfied, skipping upgrade: google-cloud-firestore>=1.4.0; platform_python_implementation != \"PyPy\" in d:\\anaconda3\\lib\\site-packages (from firebase-admin) (2.0.2)\n",
      "Requirement already satisfied, skipping upgrade: google-cloud-storage>=1.18.0 in d:\\anaconda3\\lib\\site-packages (from firebase-admin) (1.35.0)\n",
      "Requirement already satisfied, skipping upgrade: google-api-python-client>=1.7.8 in d:\\anaconda3\\lib\\site-packages (from firebase-admin) (1.12.8)\n",
      "Requirement already satisfied, skipping upgrade: google-api-core[grpc]<2.0.0dev,>=1.14.0; platform_python_implementation != \"PyPy\" in d:\\anaconda3\\lib\\site-packages (from firebase-admin) (1.24.1)\n",
      "Requirement already satisfied, skipping upgrade: cachecontrol>=0.12.6 in d:\\anaconda3\\lib\\site-packages (from firebase-admin) (0.12.6)\n",
      "Requirement already satisfied, skipping upgrade: google-cloud-core<2.0dev,>=1.4.1 in d:\\anaconda3\\lib\\site-packages (from google-cloud-firestore>=1.4.0; platform_python_implementation != \"PyPy\"->firebase-admin) (1.5.0)\n",
      "Requirement already satisfied, skipping upgrade: pytz in d:\\anaconda3\\lib\\site-packages (from google-cloud-firestore>=1.4.0; platform_python_implementation != \"PyPy\"->firebase-admin) (2019.3)\n",
      "Requirement already satisfied, skipping upgrade: proto-plus>=1.3.0 in d:\\anaconda3\\lib\\site-packages (from google-cloud-firestore>=1.4.0; platform_python_implementation != \"PyPy\"->firebase-admin) (1.13.0)\n",
      "Requirement already satisfied, skipping upgrade: requests<3.0.0dev,>=2.18.0 in d:\\anaconda3\\lib\\site-packages (from google-cloud-storage>=1.18.0->firebase-admin) (2.22.0)\n",
      "Requirement already satisfied, skipping upgrade: google-resumable-media<2.0dev,>=1.2.0 in d:\\anaconda3\\lib\\site-packages (from google-cloud-storage>=1.18.0->firebase-admin) (1.2.0)\n",
      "Requirement already satisfied, skipping upgrade: google-auth<2.0dev,>=1.11.0 in d:\\anaconda3\\lib\\site-packages (from google-cloud-storage>=1.18.0->firebase-admin) (1.24.0)\n",
      "Requirement already satisfied, skipping upgrade: google-auth-httplib2>=0.0.3 in d:\\anaconda3\\lib\\site-packages (from google-api-python-client>=1.7.8->firebase-admin) (0.0.4)\n",
      "Requirement already satisfied, skipping upgrade: uritemplate<4dev,>=3.0.0 in d:\\anaconda3\\lib\\site-packages (from google-api-python-client>=1.7.8->firebase-admin) (3.0.1)\n",
      "Requirement already satisfied, skipping upgrade: httplib2<1dev,>=0.15.0 in d:\\anaconda3\\lib\\site-packages (from google-api-python-client>=1.7.8->firebase-admin) (0.18.1)\n",
      "Requirement already satisfied, skipping upgrade: six<2dev,>=1.13.0 in d:\\anaconda3\\lib\\site-packages (from google-api-python-client>=1.7.8->firebase-admin) (1.14.0)\n",
      "Requirement already satisfied, skipping upgrade: setuptools>=34.0.0 in d:\\anaconda3\\lib\\site-packages (from google-api-core[grpc]<2.0.0dev,>=1.14.0; platform_python_implementation != \"PyPy\"->firebase-admin) (45.2.0.post20200210)\n",
      "Requirement already satisfied, skipping upgrade: protobuf>=3.12.0 in d:\\anaconda3\\lib\\site-packages (from google-api-core[grpc]<2.0.0dev,>=1.14.0; platform_python_implementation != \"PyPy\"->firebase-admin) (3.14.0)\n",
      "Requirement already satisfied, skipping upgrade: googleapis-common-protos<2.0dev,>=1.6.0 in d:\\anaconda3\\lib\\site-packages (from google-api-core[grpc]<2.0.0dev,>=1.14.0; platform_python_implementation != \"PyPy\"->firebase-admin) (1.52.0)\n",
      "Requirement already satisfied, skipping upgrade: grpcio<2.0dev,>=1.29.0; extra == \"grpc\" in d:\\anaconda3\\lib\\site-packages (from google-api-core[grpc]<2.0.0dev,>=1.14.0; platform_python_implementation != \"PyPy\"->firebase-admin) (1.34.0)\n",
      "Requirement already satisfied, skipping upgrade: msgpack>=0.5.2 in d:\\anaconda3\\lib\\site-packages (from cachecontrol>=0.12.6->firebase-admin) (0.6.1)\n",
      "Requirement already satisfied, skipping upgrade: certifi>=2017.4.17 in d:\\anaconda3\\lib\\site-packages (from requests<3.0.0dev,>=2.18.0->google-cloud-storage>=1.18.0->firebase-admin) (2019.11.28)\n",
      "Requirement already satisfied, skipping upgrade: urllib3!=1.25.0,!=1.25.1,<1.26,>=1.21.1 in d:\\anaconda3\\lib\\site-packages (from requests<3.0.0dev,>=2.18.0->google-cloud-storage>=1.18.0->firebase-admin) (1.25.8)\n",
      "Requirement already satisfied, skipping upgrade: chardet<3.1.0,>=3.0.2 in d:\\anaconda3\\lib\\site-packages (from requests<3.0.0dev,>=2.18.0->google-cloud-storage>=1.18.0->firebase-admin) (3.0.4)\n",
      "Requirement already satisfied, skipping upgrade: idna<2.9,>=2.5 in d:\\anaconda3\\lib\\site-packages (from requests<3.0.0dev,>=2.18.0->google-cloud-storage>=1.18.0->firebase-admin) (2.8)\n",
      "Requirement already satisfied, skipping upgrade: google-crc32c<2.0dev,>=1.0; python_version >= \"3.5\" in d:\\anaconda3\\lib\\site-packages (from google-resumable-media<2.0dev,>=1.2.0->google-cloud-storage>=1.18.0->firebase-admin) (1.1.0)\n",
      "Requirement already satisfied, skipping upgrade: cachetools<5.0,>=2.0.0 in d:\\anaconda3\\lib\\site-packages (from google-auth<2.0dev,>=1.11.0->google-cloud-storage>=1.18.0->firebase-admin) (4.2.0)\n",
      "Requirement already satisfied, skipping upgrade: pyasn1-modules>=0.2.1 in d:\\anaconda3\\lib\\site-packages (from google-auth<2.0dev,>=1.11.0->google-cloud-storage>=1.18.0->firebase-admin) (0.2.8)\n",
      "Requirement already satisfied, skipping upgrade: rsa<5,>=3.1.4; python_version >= \"3.6\" in d:\\anaconda3\\lib\\site-packages (from google-auth<2.0dev,>=1.11.0->google-cloud-storage>=1.18.0->firebase-admin) (4.6)\n",
      "Requirement already satisfied, skipping upgrade: cffi>=1.0.0 in d:\\anaconda3\\lib\\site-packages (from google-crc32c<2.0dev,>=1.0; python_version >= \"3.5\"->google-resumable-media<2.0dev,>=1.2.0->google-cloud-storage>=1.18.0->firebase-admin) (1.14.0)\n",
      "Requirement already satisfied, skipping upgrade: pyasn1<0.5.0,>=0.4.6 in d:\\anaconda3\\lib\\site-packages (from pyasn1-modules>=0.2.1->google-auth<2.0dev,>=1.11.0->google-cloud-storage>=1.18.0->firebase-admin) (0.4.8)\n",
      "Requirement already satisfied, skipping upgrade: pycparser in d:\\anaconda3\\lib\\site-packages (from cffi>=1.0.0->google-crc32c<2.0dev,>=1.0; python_version >= \"3.5\"->google-resumable-media<2.0dev,>=1.2.0->google-cloud-storage>=1.18.0->firebase-admin) (2.19)\n"
     ]
    }
   ],
   "source": [
    "!pip install --upgrade firebase-admin"
   ]
  },
  {
   "cell_type": "code",
   "execution_count": 3,
   "metadata": {},
   "outputs": [],
   "source": [
    "import firebase_admin"
   ]
  },
  {
   "cell_type": "code",
   "execution_count": 4,
   "metadata": {},
   "outputs": [],
   "source": [
    "from firebase_admin import credentials\n",
    "from firebase_admin import firestore"
   ]
  },
  {
   "cell_type": "code",
   "execution_count": 5,
   "metadata": {},
   "outputs": [
    {
     "data": {
      "text/plain": [
       "<firebase_admin.App at 0x1679bd25a08>"
      ]
     },
     "execution_count": 5,
     "metadata": {},
     "output_type": "execute_result"
    }
   ],
   "source": [
    "cred = credentials.Certificate(\"python-demo-3d18c-firebase-adminsdk-elsdj-fbfa09c9fc.json\")\n",
    "firebase_admin.initialize_app(cred)"
   ]
  },
  {
   "cell_type": "code",
   "execution_count": 6,
   "metadata": {},
   "outputs": [],
   "source": [
    "db = firestore.client()"
   ]
  },
  {
   "cell_type": "code",
   "execution_count": 7,
   "metadata": {},
   "outputs": [
    {
     "data": {
      "text/plain": [
       "update_time {\n",
       "  seconds: 1608391847\n",
       "  nanos: 594606000\n",
       "}"
      ]
     },
     "execution_count": 7,
     "metadata": {},
     "output_type": "execute_result"
    }
   ],
   "source": [
    "doc_ref = db.collection(u'users').document(u'abc')\n",
    "doc_ref.set({\n",
    "    u'first': u'Kevin',\n",
    "    u'last': u'Rayan',\n",
    "    u'born': 1987\n",
    "})"
   ]
  },
  {
   "cell_type": "code",
   "execution_count": 23,
   "metadata": {},
   "outputs": [],
   "source": [
    "def enterDataInDB():\n",
    "    doc_ref = db.collection(u'Class').document()\n",
    "    name = input(\"Enter a name :\")\n",
    "    lastname = input(\"Enter last name :\")\n",
    "    age = int(input(\"Age :\"))\n",
    "    dit = {}\n",
    "    dit [\"firstName\"]=name\n",
    "    dit[\"LastName\"]=lastname\n",
    "    dit[\"age\"]=age\n",
    "    \n",
    "    doc_ref.set(dit)"
   ]
  },
  {
   "cell_type": "code",
   "execution_count": 14,
   "metadata": {},
   "outputs": [],
   "source": [
    "enterDataInDB(\"kev\",\"ray\",55)"
   ]
  },
  {
   "cell_type": "code",
   "execution_count": 15,
   "metadata": {},
   "outputs": [],
   "source": [
    "enterDataInDB(\"shash\",\"k\",25)"
   ]
  },
  {
   "cell_type": "code",
   "execution_count": 16,
   "metadata": {},
   "outputs": [],
   "source": [
    "enterDataInDB(\"levon\",\"y\",45)"
   ]
  },
  {
   "cell_type": "code",
   "execution_count": 17,
   "metadata": {},
   "outputs": [],
   "source": [
    "enterDataInDB(\"rock\",\"Shetty\",33)"
   ]
  },
  {
   "cell_type": "code",
   "execution_count": 18,
   "metadata": {},
   "outputs": [],
   "source": [
    "enterDataInDB(\"kiran\",\"M\",45)"
   ]
  },
  {
   "cell_type": "code",
   "execution_count": 19,
   "metadata": {},
   "outputs": [],
   "source": [
    "enterDataInDB(\"sai\",\"kiran\",35)"
   ]
  },
  {
   "cell_type": "code",
   "execution_count": 20,
   "metadata": {},
   "outputs": [],
   "source": [
    "enterDataInDB(\"anju\",\"jos\",55)"
   ]
  },
  {
   "cell_type": "code",
   "execution_count": 21,
   "metadata": {},
   "outputs": [],
   "source": [
    "enterDataInDB(\"kedar\",\"nath\",55)"
   ]
  },
  {
   "cell_type": "code",
   "execution_count": 22,
   "metadata": {},
   "outputs": [],
   "source": [
    "enterDataInDB(\"Yash\",\"kumar\",55)"
   ]
  },
  {
   "cell_type": "code",
   "execution_count": 24,
   "metadata": {},
   "outputs": [
    {
     "name": "stdout",
     "output_type": "stream",
     "text": [
      "Enter a name :yadav\n",
      "Enter last name :kumar\n",
      "Age :12\n"
     ]
    }
   ],
   "source": [
    "enterDataInDB()"
   ]
  },
  {
   "cell_type": "code",
   "execution_count": 25,
   "metadata": {},
   "outputs": [],
   "source": [
    "#read data from firebase DB"
   ]
  },
  {
   "cell_type": "code",
   "execution_count": 27,
   "metadata": {},
   "outputs": [
    {
     "name": "stdout",
     "output_type": "stream",
     "text": [
      "5tfUFHtjNwh8RaatAspe => {'firstName': 'anju', 'age': 55, 'LastName': 'jos'}\n",
      "ID - 5tfUFHtjNwh8RaatAspe\n",
      "Name -  anju\n",
      "Last name -  jos\n",
      "Age -  55\n",
      "----------------------------\n",
      "----------------------------\n",
      "6DpBR9nCvF2ksZnRWVQx => {'age': 45, 'firstName': 'levon', 'LastName': 'y'}\n",
      "ID - 6DpBR9nCvF2ksZnRWVQx\n",
      "Name -  levon\n",
      "Last name -  y\n",
      "Age -  45\n",
      "----------------------------\n",
      "----------------------------\n",
      "DOoRxcm6OTD65Mp4UmJW => {'age': 25, 'firstName': 'shash', 'LastName': 'k'}\n",
      "ID - DOoRxcm6OTD65Mp4UmJW\n",
      "Name -  shash\n",
      "Last name -  k\n",
      "Age -  25\n",
      "----------------------------\n",
      "----------------------------\n",
      "J00OsZS5ZSNr4KxOKdSB => {'age': 33, 'firstName': 'rock', 'LastName': 'Shetty'}\n",
      "ID - J00OsZS5ZSNr4KxOKdSB\n",
      "Name -  rock\n",
      "Last name -  Shetty\n",
      "Age -  33\n",
      "----------------------------\n",
      "----------------------------\n",
      "JTQpdaHE17DbhieXx3vS => {'age': 55, 'LastName': 'nath', 'firstName': 'kedar'}\n",
      "ID - JTQpdaHE17DbhieXx3vS\n",
      "Name -  kedar\n",
      "Last name -  nath\n",
      "Age -  55\n",
      "----------------------------\n",
      "----------------------------\n",
      "R4gewxnCLiGOMmQ7vrjE => {'LastName': 'kiran', 'age': 35, 'firstName': 'sai'}\n",
      "ID - R4gewxnCLiGOMmQ7vrjE\n",
      "Name -  sai\n",
      "Last name -  kiran\n",
      "Age -  35\n",
      "----------------------------\n",
      "----------------------------\n",
      "TA5CnQAUj5VYiIbXGWFo => {'age': 12, 'firstName': 'yadav', 'LastName': 'kumar'}\n",
      "ID - TA5CnQAUj5VYiIbXGWFo\n",
      "Name -  yadav\n",
      "Last name -  kumar\n",
      "Age -  12\n",
      "----------------------------\n",
      "----------------------------\n",
      "YgsQoxKK4Egkp7fwnlGt => {'age': 45, 'firstName': 'kiran', 'LastName': 'M'}\n",
      "ID - YgsQoxKK4Egkp7fwnlGt\n",
      "Name -  kiran\n",
      "Last name -  M\n",
      "Age -  45\n",
      "----------------------------\n",
      "----------------------------\n",
      "hhUAxEdQRfACtWH3K6sL => {'age': 55, 'LastName': 'ray', 'firstName': 'kev'}\n",
      "ID - hhUAxEdQRfACtWH3K6sL\n",
      "Name -  kev\n",
      "Last name -  ray\n",
      "Age -  55\n",
      "----------------------------\n",
      "----------------------------\n",
      "o03tY6fQHWVFmwud2nYA => {'age': 55, 'LastName': 'kumar', 'firstName': 'Yash'}\n",
      "ID - o03tY6fQHWVFmwud2nYA\n",
      "Name -  Yash\n",
      "Last name -  kumar\n",
      "Age -  55\n",
      "----------------------------\n",
      "----------------------------\n"
     ]
    }
   ],
   "source": [
    "docs = db.collection(u'Class').stream()\n",
    "\n",
    "for doc in docs:\n",
    "    print(f'{doc.id} => {doc.to_dict()}')\n",
    "    \n",
    "    print(\"ID -\",doc.id)\n",
    "    print(\"Name - \",doc.to_dict().get(\"firstName\"))\n",
    "    print(\"Last name - \",doc.to_dict().get(\"LastName\"))\n",
    "    print(\"Age - \",doc.to_dict().get(\"age\"))\n",
    "    print(\"----------------------------\")\n",
    "    print(\"----------------------------\")"
   ]
  },
  {
   "cell_type": "code",
   "execution_count": 28,
   "metadata": {},
   "outputs": [],
   "source": [
    "#update a entry"
   ]
  },
  {
   "cell_type": "code",
   "execution_count": 36,
   "metadata": {},
   "outputs": [],
   "source": [
    "def updateDataInFirebase(ID,updateage):\n",
    "    doc_ref = db.collection(u'Class').document(ID)\n",
    "    \n",
    "    \n",
    "    doc_ref.update({\"age\":updateage})"
   ]
  },
  {
   "cell_type": "code",
   "execution_count": 37,
   "metadata": {},
   "outputs": [],
   "source": [
    "updateDataInFirebase(\"o03tY6fQHWVFmwud2nYA\",67)"
   ]
  },
  {
   "cell_type": "code",
   "execution_count": 38,
   "metadata": {},
   "outputs": [],
   "source": [
    "#delete data from firebase"
   ]
  },
  {
   "cell_type": "code",
   "execution_count": 39,
   "metadata": {},
   "outputs": [],
   "source": [
    "def deleteDataInFirebase(ID):\n",
    "    db.collection(u'Class').document(ID).delete()"
   ]
  },
  {
   "cell_type": "code",
   "execution_count": 40,
   "metadata": {},
   "outputs": [],
   "source": [
    "deleteDataInFirebase(\"o03tY6fQHWVFmwud2nYA\")"
   ]
  },
  {
   "cell_type": "code",
   "execution_count": null,
   "metadata": {},
   "outputs": [],
   "source": []
  }
 ],
 "metadata": {
  "kernelspec": {
   "display_name": "Python 3",
   "language": "python",
   "name": "python3"
  },
  "language_info": {
   "codemirror_mode": {
    "name": "ipython",
    "version": 3
   },
   "file_extension": ".py",
   "mimetype": "text/x-python",
   "name": "python",
   "nbconvert_exporter": "python",
   "pygments_lexer": "ipython3",
   "version": "3.7.6"
  }
 },
 "nbformat": 4,
 "nbformat_minor": 4
}
